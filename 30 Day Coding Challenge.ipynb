{
 "cells": [
  {
   "cell_type": "markdown",
   "metadata": {},
   "source": [
    "1. Check if the brackets are n the right order or not\n",
    "    eg. \n",
    "        \"{{}}\" True\n",
    "        \"foo {{baz}}\" True\n",
    "        \"{{}\" False"
   ]
  },
  {
   "cell_type": "code",
   "execution_count": 7,
   "metadata": {
    "collapsed": true
   },
   "outputs": [],
   "source": [
    "def is_balanced(inp):\n",
    "    filtrd = []\n",
    "    for i in inp:\n",
    "        if i in \"{}\":\n",
    "            filtrd.append(i)\n",
    "    filtrd = \"\".join(filtrd)\n",
    "    \n",
    "    if len(filtrd)%2 != 0:\n",
    "        return False\n",
    "\n",
    "    for i, j in zip(list(range(0,len(filtrd))), list(reversed(range(0, len(filtrd))))):\n",
    "        if i >= j:\n",
    "            return True\n",
    "            break\n",
    "        elif filtrd[i] == filtrd[j]:\n",
    "            return False\n",
    "            break"
   ]
  },
  {
   "cell_type": "code",
   "execution_count": 123,
   "metadata": {},
   "outputs": [
    {
     "data": {
      "text/plain": [
       "True"
      ]
     },
     "execution_count": 123,
     "metadata": {},
     "output_type": "execute_result"
    }
   ],
   "source": [
    "is_balanced(\"{foo {baz}}\")"
   ]
  },
  {
   "cell_type": "markdown",
   "metadata": {},
   "source": [
    "### Day 1 Challenge - April 1\n",
    "1. Given a non-empty array of integers, every element appears twice except for one. Find that single one.\n",
    "\n",
    "Input: [2,2,1]\n",
    "\n",
    "Output: 1\n",
    "    \n",
    "Input: [4,1,2,1,2]\n",
    "\n",
    "Output: 4"
   ]
  },
  {
   "cell_type": "code",
   "execution_count": 37,
   "metadata": {
    "collapsed": true
   },
   "outputs": [],
   "source": [
    "## My solution\n",
    "def singleNumber(nums):\n",
    "    counter = dict()\n",
    "    for elem in nums:\n",
    "        if counter.get(elem) == 1:\n",
    "            del counter[elem]\n",
    "            continue\n",
    "        else:\n",
    "            counter[elem] = 1\n",
    "    return list(counter.keys())[0]\n",
    "\n",
    "## Better solution\n",
    "def singleNumber(nums):\n",
    "    temp = 0\n",
    "    for each in [1,4,1]:\n",
    "        temp = temp^each\n",
    "    return temp"
   ]
  },
  {
   "cell_type": "code",
   "execution_count": 47,
   "metadata": {},
   "outputs": [
    {
     "data": {
      "text/plain": [
       "3"
      ]
     },
     "execution_count": 47,
     "metadata": {},
     "output_type": "execute_result"
    }
   ],
   "source": [
    "singleNumber([1,3,1])"
   ]
  },
  {
   "cell_type": "code",
   "execution_count": null,
   "metadata": {
    "collapsed": true
   },
   "outputs": [],
   "source": []
  }
 ],
 "metadata": {
  "kernelspec": {
   "display_name": "Python 3",
   "language": "python",
   "name": "python3"
  },
  "language_info": {
   "codemirror_mode": {
    "name": "ipython",
    "version": 3
   },
   "file_extension": ".py",
   "mimetype": "text/x-python",
   "name": "python",
   "nbconvert_exporter": "python",
   "pygments_lexer": "ipython3",
   "version": "3.6.4"
  }
 },
 "nbformat": 4,
 "nbformat_minor": 2
}
