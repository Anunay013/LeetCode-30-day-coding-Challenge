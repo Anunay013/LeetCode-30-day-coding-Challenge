{
 "cells": [
  {
   "cell_type": "markdown",
   "metadata": {},
   "source": [
    "1. Check if the brackets are n the right order or not\n",
    "    eg. \n",
    "        \"{{}}\" True\n",
    "        \"foo {{baz}}\" True\n",
    "        \"{{}\" False"
   ]
  },
  {
   "cell_type": "code",
   "execution_count": 7,
   "metadata": {
    "collapsed": true
   },
   "outputs": [],
   "source": [
    "def is_balanced(inp):\n",
    "    filtrd = []\n",
    "    for i in inp:\n",
    "        if i in \"{}\":\n",
    "            filtrd.append(i)\n",
    "    filtrd = \"\".join(filtrd)\n",
    "    \n",
    "    if len(filtrd)%2 != 0:\n",
    "        return False\n",
    "\n",
    "    for i, j in zip(list(range(0,len(filtrd))), list(reversed(range(0, len(filtrd))))):\n",
    "        if i >= j:\n",
    "            return True\n",
    "            break\n",
    "        elif filtrd[i] == filtrd[j]:\n",
    "            return False\n",
    "            break"
   ]
  },
  {
   "cell_type": "code",
   "execution_count": 123,
   "metadata": {},
   "outputs": [
    {
     "data": {
      "text/plain": [
       "True"
      ]
     },
     "execution_count": 123,
     "metadata": {},
     "output_type": "execute_result"
    }
   ],
   "source": [
    "is_balanced(\"{foo {baz}}\")"
   ]
  },
  {
   "cell_type": "markdown",
   "metadata": {},
   "source": [
    "## Day 1 Challenge - April 1\n",
    "1. Given a non-empty array of integers, every element appears twice except for one. Find that single one.\n",
    "\n",
    "Input: [2,2,1]\n",
    "\n",
    "Output: 1\n",
    "    \n",
    "Input: [4,1,2,1,2]\n",
    "\n",
    "Output: 4"
   ]
  },
  {
   "cell_type": "code",
   "execution_count": 37,
   "metadata": {
    "collapsed": true
   },
   "outputs": [],
   "source": [
    "## My solution\n",
    "def singleNumber(nums):\n",
    "    counter = dict()\n",
    "    for elem in nums:\n",
    "        if counter.get(elem) == 1:\n",
    "            del counter[elem]\n",
    "            continue\n",
    "        else:\n",
    "            counter[elem] = 1\n",
    "    return list(counter.keys())[0]\n",
    "\n",
    "## Better solution\n",
    "def singleNumber(nums):\n",
    "    temp = 0\n",
    "    for each in nums:\n",
    "        temp = temp^each\n",
    "    return temp"
   ]
  },
  {
   "cell_type": "code",
   "execution_count": 47,
   "metadata": {},
   "outputs": [
    {
     "data": {
      "text/plain": [
       "3"
      ]
     },
     "execution_count": 47,
     "metadata": {},
     "output_type": "execute_result"
    }
   ],
   "source": [
    "singleNumber([1,3,1])"
   ]
  },
  {
   "cell_type": "markdown",
   "metadata": {
    "collapsed": true
   },
   "source": [
    "## Day 2 Challenge - April 2\n",
    "\n",
    "Write an algorithm to determine if a number is \"happy\".\n",
    "\n",
    "A happy number is a number defined by the following process: Starting with any positive integer, replace \n",
    "the number by the sum of the squares of its digits, and repeat the process until the number equals 1 \n",
    "(where it will stay), or it loops endlessly in a cycle which does not include 1. Those numbers for which \n",
    "this process ends in 1 are happy numbers.\n",
    "\n",
    "Input: 19\n",
    "Output: true\n",
    "Explanation:\n",
    "\n",
    "1^2 + 9^2 = 82\n",
    "\n",
    "8^2 + 2^2 = 68\n",
    "\n",
    "6^2 + 8^2 = 100\n",
    "\n",
    "1^2 + 0^2 + 02 = 1"
   ]
  },
  {
   "cell_type": "code",
   "execution_count": 83,
   "metadata": {
    "collapsed": true
   },
   "outputs": [],
   "source": [
    "def isHappy(n):\n",
    "    nums = set()\n",
    "    while True:\n",
    "        addition = sum(map(lambda x: int(x)**2, str(n)))\n",
    "        if (addition != 1) & (addition not in nums):\n",
    "            nums.add(addition)\n",
    "            n = addition\n",
    "        else:\n",
    "            break\n",
    "    return addition not in nums"
   ]
  },
  {
   "cell_type": "code",
   "execution_count": 88,
   "metadata": {},
   "outputs": [
    {
     "data": {
      "text/plain": [
       "True"
      ]
     },
     "execution_count": 88,
     "metadata": {},
     "output_type": "execute_result"
    }
   ],
   "source": [
    "isHappy(19)"
   ]
  },
  {
   "cell_type": "markdown",
   "metadata": {},
   "source": [
    "Better solution\n",
    "\n",
    "Floyd's Cycle Detection Algorithm - Two pointer algorithm"
   ]
  },
  {
   "cell_type": "code",
   "execution_count": 90,
   "metadata": {},
   "outputs": [
    {
     "data": {
      "text/plain": [
       "True"
      ]
     },
     "execution_count": 90,
     "metadata": {},
     "output_type": "execute_result"
    }
   ],
   "source": [
    "n = 19\n",
    "slow = n\n",
    "fast = n\n",
    "while True:\n",
    "    slow = sum(map(lambda x: int(x)**2, str(slow)))\n",
    "    fast = sum(map(lambda x: int(x)**2, str(fast)))\n",
    "    fast = sum(map(lambda x: int(x)**2, str(fast)))\n",
    "    if (slow == fast):\n",
    "        break\n",
    "slow == 1"
   ]
  }
 ],
 "metadata": {
  "kernelspec": {
   "display_name": "Python 3",
   "language": "python",
   "name": "python3"
  },
  "language_info": {
   "codemirror_mode": {
    "name": "ipython",
    "version": 3
   },
   "file_extension": ".py",
   "mimetype": "text/x-python",
   "name": "python",
   "nbconvert_exporter": "python",
   "pygments_lexer": "ipython3",
   "version": "3.6.4"
  }
 },
 "nbformat": 4,
 "nbformat_minor": 2
}
